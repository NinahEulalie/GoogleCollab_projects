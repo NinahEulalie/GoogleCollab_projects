{
  "nbformat": 4,
  "nbformat_minor": 0,
  "metadata": {
    "colab": {
      "provenance": [],
      "authorship_tag": "ABX9TyPQMyN1m36nNjOEMZtdM6Wn",
      "include_colab_link": true
    },
    "kernelspec": {
      "name": "python3",
      "display_name": "Python 3"
    },
    "language_info": {
      "name": "python"
    }
  },
  "cells": [
    {
      "cell_type": "markdown",
      "metadata": {
        "id": "view-in-github",
        "colab_type": "text"
      },
      "source": [
        "<a href=\"https://colab.research.google.com/github/NinahEulalie/GoogleCollab_projects/blob/main/Systeme_Recommandation_FR.ipynb\" target=\"_parent\"><img src=\"https://colab.research.google.com/assets/colab-badge.svg\" alt=\"Open In Colab\"/></a>"
      ]
    },
    {
      "cell_type": "code",
      "execution_count": null,
      "metadata": {
        "id": "uh_pfrl1wuEu"
      },
      "outputs": [],
      "source": [
        "from google.colab import files\n",
        "\n",
        "# Upload file\n",
        "uploaded = files.upload()\n",
        "\n",
        "# Get the file name\n",
        "path_to_poste = next(iter(uploaded))  # Assure that the correct filename is captured"
      ]
    },
    {
      "cell_type": "code",
      "source": [
        "from google.colab import files\n",
        "\n",
        "# Upload file\n",
        "uploaded = files.upload()\n",
        "\n",
        "# Get the file name\n",
        "path_to_cv= next(iter(uploaded))"
      ],
      "metadata": {
        "id": "O0RcoRVgyDIE"
      },
      "execution_count": null,
      "outputs": []
    },
    {
      "cell_type": "code",
      "source": [
        "# Read, then decode for py2 compat.\n",
        "postes = open(path_to_poste, 'rb').read().decode(encoding='utf-8')\n",
        "print(\"ok here\")  # To verify that the content is loaded correctly\n",
        "cvs = open(path_to_cv, 'rb').read().decode(encoding='utf-8')\n",
        "print(\"ok here too\")  # To verify that the content is loaded correctly"
      ],
      "metadata": {
        "id": "kZ-77kypyGac"
      },
      "execution_count": null,
      "outputs": []
    }
  ]
}